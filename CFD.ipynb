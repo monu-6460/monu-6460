{
 "cells": [
  {
   "cell_type": "code",
   "execution_count": 8,
   "id": "7a007da9",
   "metadata": {},
   "outputs": [],
   "source": [
    "import numpy as np\n",
    "import math"
   ]
  },
  {
   "cell_type": "code",
   "execution_count": 9,
   "id": "730fab5b",
   "metadata": {},
   "outputs": [],
   "source": [
    "imax = 21\n",
    "jmax = 21\n",
    "x = np.zeros((imax,jmax))\n",
    "y = np.zeros((imax,jmax))\n",
    "qab = np.zeros((imax,jmax))\n",
    "pab = np.zeros((imax,jmax))\n",
    "qbc = np.zeros((imax,jmax))\n",
    "pbc = np.zeros((imax,jmax))\n",
    "qcd = np.zeros((imax,jmax))\n",
    "pcd = np.zeros((imax,jmax))\n",
    "qda = np.zeros((imax,jmax))\n",
    "pda = np.zeros((imax,jmax))\n",
    "phi = np.zeros((imax,jmax))\n",
    "phi_new = np.zeros((imax,jmax))\n",
    "phix = np.zeros((imax,jmax))"
   ]
  },
  {
   "cell_type": "code",
   "execution_count": 10,
   "id": "4d723353",
   "metadata": {},
   "outputs": [],
   "source": [
    "nmax = 100\n",
    "rw = 0.1\n",
    "rx = 1.0\n",
    "ry = 1.0\n",
    "rz = 0.1\n",
    "theb = 0.0\n",
    "then = 90.0\n",
    "eps = 0.0001\n",
    "om = 1.5"
   ]
  },
  {
   "cell_type": "code",
   "execution_count": 11,
   "id": "b493f35d",
   "metadata": {},
   "outputs": [],
   "source": [
    "aim = imax - 1\n",
    "ajm = jmax - 1\n",
    "drwx = (rx - rw)/aim\n",
    "drzy = (ry - rz)/aim\n",
    "dth = (then-theb)/ajm\n",
    "pi = math.pi\n",
    "\n",
    "for j in range(jmax):\n",
    "    thj = (theb + j*dth)*pi/180\n",
    "    cj = math.cos(thj)\n",
    "    sj = math.sin(thj)\n",
    "    dr = drwx + (drzy - drwx)*j/ajm\n",
    "    rwz = rw + (rz - rw)*j/ajm\n",
    "    for i in range(imax):\n",
    "        r = rwz + i*dr\n",
    "        x[i, j] = r*cj\n",
    "        y[i,j] = r*sj\n",
    "        phix[i,j] = sj/r\n",
    "phi = np.copy(phix)\n",
    "phi[:,0] = 0\n",
    "phi[:, -1] = phix[:,-1]\n",
    "phi[0, :] = phix[0, :]\n",
    "phi[-1, :] = phix[-1, :]\n",
    "\n",
    "\n",
    "phi_new = np.copy(phi)"
   ]
  },
  {
   "cell_type": "code",
   "execution_count": 12,
   "id": "c11e7662",
   "metadata": {},
   "outputs": [],
   "source": [
    "#\tset grid related parameters\n",
    " \n",
    "for j in range(1, jmax-1):\n",
    "    for i in range(1, imax-1):\n",
    "        xa = 0.25*(x[i,j] + x[i-1,j] + x[i-1,j-1] + x[i,j-1])\n",
    "        ya = 0.25*(y[i,j] + y[i-1,j] + y[i-1,j-1] + y[i,j-1])\n",
    "        xb = 0.25*(x[i,j] + x[i,j-1] + x[i+1,j-1] + x[i+1,j])\n",
    "        yb = 0.25*(y[i,j] + y[i,j-1] + y[i+1,j-1] + y[i+1,j])\n",
    "        xc = 0.25*(x[i,j] + x[i+1,j] + x[i+1,j+1] + x[i,j+1])\n",
    "        yc = 0.25*(y[i,j] + y[i+1,j] + y[i+1,j+1] + y[i,j+1])\n",
    "        xd = 0.25*(x[i,j] + x[i,j+1] + x[i-1,j+1] + x[i-1,j])\n",
    "        yd = 0.25*(y[i,j] + y[i,j+1] + y[i-1,j+1] + y[i-1,j])\n",
    " \n",
    "\t    # side ab \n",
    "        dxa = xb - xa\n",
    "        dya = yb - ya\n",
    "        dxj = x[i,j] - x[i,j-1]\n",
    "        dyj = y[i,j] - y[i,j-1]\n",
    "        sab = abs(dxa*dyj - dxj*dya)\n",
    "        qab[i,j] = (dxa*dxa + dya*dya)/sab\n",
    "        pab[i,j] = (dxa*dxj + dya*dyj)/sab\n",
    "  \n",
    "        # side bc \n",
    "        dxb = xc - xb\n",
    "        dyb = yc - yb\n",
    "        dxi = x[i,j] - x[i+1,j]\n",
    "        dyi = y[i,j] - y[i+1,j]\n",
    "        sbc = abs(dyi*dxb - dxi*dyb)\n",
    "        qbc[i,j] = (dxb*dxb + dyb*dyb)/sbc\n",
    "        pbc[i,j] = (dxb*dxi + dyb*dyi)/sbc\n",
    "\n",
    "        # side cd\n",
    "        dxc = xd - xc\n",
    "        dyc = yd - yc\n",
    "        dxj = x[i,j] - x[i,j+1]\n",
    "        dyj = y[i,j] - y[i,j+1]\n",
    "        scd = abs(dxc*dyj - dyc*dxj) \n",
    "        qcd[i,j] = (dxc*dxc + dyc*dyc)/scd\n",
    "        pcd[i,j] = (dxc*dxj + dyc*dyj)/scd\n",
    " \n",
    "        # side da\n",
    "        dxd = xa - xd\n",
    "        dyd = ya - yd\n",
    "        dxi = x[i,j] - x[i-1,j]\n",
    "        dyi = y[i,j] - y[i-1,j]\n",
    "        sda = abs(dxi*dyd - dyi*dxd)\n",
    "        qda[i,j] = (dxd*dxd + dyd*dyd)/sda\n",
    "        pda[i,j] = (dxd*dxi + dyd*dyi)/sda"
   ]
  },
  {
   "cell_type": "code",
   "execution_count": 13,
   "id": "ae16d1d9",
   "metadata": {},
   "outputs": [],
   "source": [
    "# iterate using sor\n",
    "for n in range(nmax):\n",
    "    sum = 0\n",
    "    for j in range(1, jmax-1):\n",
    "          for j in range(1, imax-1):\n",
    "              phd = 0.25*(pcd[i,j]-pda[i,j])*phi[i-1,j+1]\n",
    "              phd = phd + (qcd[i,j] + 0.25*(pbc[i,j]-pda[i,j]))*phi[i,j+1]\n",
    "              phd = phd + 0.25*(pbc[i,j]-pcd[i,j])*phi[i+1,j+1]\n",
    "              phd = phd + (qda[i,j] + 0.25*(pcd[i,j]-pab[i,j]))*phi[i-1,j]\n",
    "              phd = phd + (qbc[i,j] + 0.25*(pab[i,j]-pcd[i,j]))*phi[i+1,j]\n",
    "              phd = phd + 0.25*(pda[i,j] - pab[i,j])*phi[i-1,j-1]\n",
    "              phd = phd + (qab[i,j] + 0.25*(pda[i,j]-pbc[i,j]))*phi[i,j-1]\n",
    "              phd = phd + 0.25*(pab[i,j] - pbc[i,j])*phi[i+1,j-1]\n",
    "              phd = phd/(qab[i,j]+qbc[i,j]+qcd[i,j]+qda[i,j])\n",
    "              #phi_new[i,j] = phd\n",
    "              dif = phd - phi[i,j]\n",
    "              sum = sum + dif*dif\n",
    "              phi[i,j] = phi[i,j] + om*dif\n",
    "              \n",
    "    #diff = phi_new-phi\n",
    "    #rms = math.sqrt((np.sum(np.square(diff)))/(aim*ajm))\n",
    "    rms = math.sqrt(sum/(aim*ajm))\n",
    "    if(rms < eps):\n",
    "        itr = n+1;\n",
    "        break\n",
    "    else:\n",
    "        continue\n",
    "    #phi = phi + om*diff"
   ]
  },
  {
   "cell_type": "code",
   "execution_count": 14,
   "id": "1a0d7855",
   "metadata": {},
   "outputs": [
    {
     "data": {
      "image/png": "[encoded data removed]",
      "text/plain": [
       "<Figure size 432x288 with 2 Axes>"
      ]
     },
     "metadata": {
      "needs_background": "light"
     },
     "output_type": "display_data"
    }
   ],
   "source": [
    "import matplotlib.pyplot as plt\n",
    "\n",
    "plt.contourf(x, y, phi, 20)\n",
    "CS = plt.contour(x, y, phi, 20, colors='black', linewidths=0.5)\n",
    "plt.colorbar()\n",
    "plt.clabel(CS, inline=1, fontsize=5)\n",
    "plt.savefig(\"phi2.pdf\")"
   ]
  }
 ],
 "metadata": {
  "kernelspec": {
   "display_name": "Python 3 (ipykernel)",
   "language": "python",
   "name": "python3"
  },
  "language_info": {
   "codemirror_mode": {
    "name": "ipython",
    "version": 3
   },
   "file_extension": ".py",
   "mimetype": "text/x-python",
   "name": "python",
   "nbconvert_exporter": "python",
   "pygments_lexer": "ipython3",
   "version": "3.9.12"
  }
 },
 "nbformat": 4,
 "nbformat_minor": 5
}
