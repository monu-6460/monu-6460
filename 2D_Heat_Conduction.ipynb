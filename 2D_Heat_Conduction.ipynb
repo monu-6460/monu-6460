{
 "cells": [
  {
   "cell_type": "code",
   "execution_count": 207,
   "id": "5aa3e286",
   "metadata": {},
   "outputs": [],
   "source": [
    "import numpy as np\n",
    "from matplotlib import pyplot as plt\n",
    "import math"
   ]
  },
  {
   "cell_type": "code",
   "execution_count": 208,
   "id": "9ccc6a68",
   "metadata": {},
   "outputs": [],
   "source": [
    "#Initializing charactaristic variables\n",
    "alpha = 1.6 * pow(10, -5) #Thermal diffusivity of chrome steel in m^2/s\n",
    "k = 61  #Thermal conductivity of chrome steel in W/m.K\n",
    "h = 400  #Convection heat transfer coefficient in W/m^2.K\n",
    "l = 0.08  #Dimensions of the square block in m"
   ]
  },
  {
   "cell_type": "code",
   "execution_count": 209,
   "id": "c9255da5",
   "metadata": {},
   "outputs": [],
   "source": [
    "#Temperature conditions\n",
    "T0 = 100+273 #Initial temperature of the block in K\n",
    "Tinf = 25+273 #Surrounding temperature due to cool stream in K"
   ]
  },
  {
   "cell_type": "code",
   "execution_count": 210,
   "id": "fa40b649",
   "metadata": {},
   "outputs": [],
   "source": [
    "#Discretization variables\n",
    "ngrid = 11 #number of nodes in the first quadrant grid\n",
    "dt = 1 #forward time difference in s\n",
    "t = 60 #total time after which we want to find the temperature distribution\n",
    "nt = 60  #total number of time steps taken\n",
    "dx = (l/2)/ngrid  #forward space difference in first quadrant\n",
    "dy = dx #forward space difference in y direction"
   ]
  },
  {
   "cell_type": "code",
   "execution_count": 211,
   "id": "9325ac87",
   "metadata": {},
   "outputs": [],
   "source": [
    " # a matrix for storing obtained T values after each time step\n",
    "Tn = np.zeros([ngrid, ngrid])\n",
    "Tn[:,:] = T0 #Initial T matrix\n",
    "Tn_half = np.zeros([ngrid, ngrid]) #n+1/2 level matrix\n",
    "Tn_1 = np.zeros([ngrid, ngrid]) #n+1 level matrix\n",
    "rx = alpha*dt/(2*(dx**2)) #Here rx = ry because of symmetricity"
   ]
  },
  {
   "cell_type": "code",
   "execution_count": 212,
   "id": "098dfcb3",
   "metadata": {},
   "outputs": [],
   "source": [
    "#in x direction\n",
    "coeff = np.zeros([ngrid, ngrid]) #coefficient matrix\n",
    "const = np.zeros([ngrid]) #constant matrix"
   ]
  },
  {
   "cell_type": "code",
   "execution_count": 213,
   "id": "32cb49e3",
   "metadata": {},
   "outputs": [],
   "source": [
    "#using the 2 boundary condition for the formulation of the matrix\n",
    "coeff[0,0] = -1\n",
    "coeff[0,1] = 1\n",
    "coeff[-1, -2] = -k/dx\n",
    "coeff[-1, -1] = k/dx + h"
   ]
  },
  {
   "cell_type": "code",
   "execution_count": 214,
   "id": "651ac5c5",
   "metadata": {},
   "outputs": [],
   "source": [
    "for i in range(1, ngrid-1):\n",
    "    coeff[i,i-1] = -rx/2\n",
    "    coeff[i,i] = 1 + rx\n",
    "    coeff[i,i+1] = -rx/2"
   ]
  },
  {
   "cell_type": "code",
   "execution_count": 215,
   "id": "806e7470",
   "metadata": {},
   "outputs": [],
   "source": [
    "#Boundary condition on the constant array\n",
    "const[0] = 0\n",
    "const[-1] = h * Tinf"
   ]
  },
  {
   "cell_type": "code",
   "execution_count": 216,
   "id": "4320c88f",
   "metadata": {},
   "outputs": [
    {
     "name": "stdout",
     "output_type": "stream",
     "text": [
      "[[369.92101641 369.92101641 368.37147654 363.95163641 353.58002601\n",
      "  332.00309111 292.38900846 228.84746323 140.42092177  34.03989286\n",
      "   40.18743538]\n",
      " [369.92101641 369.92101641 368.37147654 363.95163641 353.58002601\n",
      "  332.00309111 292.38900846 228.84746323 140.42092177  34.03989286\n",
      "   40.18743538]\n",
      " [367.96945964 367.96945964 366.42814086 362.03175021 351.71516644\n",
      "  330.25270805 290.84879808 227.64437278 139.68697869  33.87035477\n",
      "   40.02184578]\n",
      " [362.61064607 362.61064607 361.09190172 356.7599014  346.59441619\n",
      "  325.44630085 286.61950768 224.34078584 137.67163167  33.40481718\n",
      "   39.56715041]\n",
      " [350.63457434 350.63457434 349.16628016 344.9781817  335.15037704\n",
      "  314.704767   277.16773548 216.95780943 133.16766076  32.36441684\n",
      "   38.55098064]\n",
      " [326.96084534 326.96084534 325.59227865 321.68863855 312.52834474\n",
      "  293.47141377 258.48392172 202.36349282 124.26442527  30.30780291\n",
      "   36.54226456]\n",
      " [285.51212412 285.51212412 284.31816351 280.91256219 272.92096771\n",
      "  256.29538042 225.77170355 176.81129693 108.67635607  26.70701754\n",
      "   33.02534027]\n",
      " [221.59948072 221.59948072 220.67475727 218.03711631 211.84761998\n",
      "  198.97108929 175.33047708 137.41060288  84.64003653  21.15471809\n",
      "   27.60235202]\n",
      " [135.15926691 135.15926691 134.59867982 132.9996856  129.24748087\n",
      "  121.44145324 107.11000974  84.12217297  52.13152977  13.64537526\n",
      "   20.26789927]\n",
      " [ 68.16132652  68.16132652  67.89174159  67.12275422  65.31803627\n",
      "   61.56235519  54.66064382  43.55471784  27.90702939   8.04960675\n",
      "   14.80245433]\n",
      " [ 73.51419228  73.51419228  73.25088589  72.49980798  70.7371213\n",
      "   67.06890878  60.32793595  49.48066328  34.19740425  14.80245433\n",
      "   21.39803036]]\n"
     ]
    }
   ],
   "source": [
    "for t in range(6):\n",
    "    for j in range(1, ngrid-1):\n",
    "        const[1: -2] = (rx/2) * Tn[1:-2, j-1] + (1 - rx) * Tn[1:-2, j] + (rx/2) * Tn[1:-2, j+1]\n",
    "        Tn_half[:,j] = np.linalg.solve(coeff, const)\n",
    "        const[1: -2] = 0\n",
    "    Tn_half[:, -1] = (h * Tinf + Tn_half[:, -2] * (k / dx )) / (k / dx + h)\n",
    "    Tn_half[:, 0] = Tn_half[:, 1]  \n",
    "\n",
    "    #STEP 2\n",
    "    for i in range(1, ngrid-1):\n",
    "        const[1: -2] = (rx/2) * Tn_half[i-1, 1:-2] + (1 - rx) * Tn_half[i, 1:-2] + (rx/2) * Tn_half[i+1, 1:-2]\n",
    "        Tn_1[i, :] = np.linalg.solve(coeff, const)\n",
    "        const[1: -2] = 0\n",
    "    Tn_1[0, :] = Tn_1[1, :]\n",
    "    Tn_1[-1, :] = (h * Tinf + Tn_1[-2, :] * (k / dx)) / (k / dx + h)\n",
    "    Tn = np.copy(Tn_1)\n",
    "    Tn_half[:,:] = 0\n",
    "    Tn_1[:,:] = 0\n",
    "print(Tn)"
   ]
  },
  {
   "cell_type": "code",
   "execution_count": 217,
   "id": "29444c85",
   "metadata": {},
   "outputs": [
    {
     "data": {
      "image/png": "[encoded data removed]",
      "text/plain": [
       "<Figure size 432x288 with 2 Axes>"
      ]
     },
     "metadata": {
      "needs_background": "light"
     },
     "output_type": "display_data"
    }
   ],
   "source": [
    "x = np.linspace(1, ngrid, ngrid)\n",
    "y = np.linspace(1, ngrid, ngrid)\n",
    "plt.contourf(x, y, np.transpose(Tn))\n",
    "plt.colorbar()\n",
    "plt.savefig(\"Tn_@_t=60\")"
   ]
  },
  {
   "cell_type": "code",
   "execution_count": null,
   "id": "61af6c5b",
   "metadata": {},
   "outputs": [],
   "source": []
  }
 ],
 "metadata": {
  "kernelspec": {
   "display_name": "Python 3 (ipykernel)",
   "language": "python",
   "name": "python3"
  },
  "language_info": {
   "codemirror_mode": {
    "name": "ipython",
    "version": 3
   },
   "file_extension": ".py",
   "mimetype": "text/x-python",
   "name": "python",
   "nbconvert_exporter": "python",
   "pygments_lexer": "ipython3",
   "version": "3.9.7"
  }
 },
 "nbformat": 4,
 "nbformat_minor": 5
}
